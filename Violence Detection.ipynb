{
 "cells": [
  {
   "cell_type": "code",
   "execution_count": 6,
   "id": "d3b7732a-6e41-4171-9379-67fab3939bbf",
   "metadata": {},
   "outputs": [],
   "source": [
    "import os\n",
    "import cv2\n",
    "import numpy as np"
   ]
  },
  {
   "cell_type": "code",
   "execution_count": 7,
   "id": "9d4b64eb-2235-41a8-b804-321416296c5c",
   "metadata": {},
   "outputs": [],
   "source": [
    "IMG_SIZE = 64\n",
    "NUM_FRAMES = 10"
   ]
  },
  {
   "cell_type": "code",
   "execution_count": 8,
   "id": "42d096df-5893-441a-ac69-601bb2336ee6",
   "metadata": {},
   "outputs": [],
   "source": [
    "def preprocess_video(video_path, num_frames=NUM_FRAMES):\n",
    "    cap = cv2.VideoCapture(video_path)\n",
    "    frames = []\n",
    "    frame_count = int(cap.get(cv2.CAP_PROP_FRAME_COUNT))\n",
    "    \n",
    "    if frame_count == 0:\n",
    "        print(\"Error: Video is empty or corrupted.\")\n",
    "        return None\n",
    "    \n",
    "    interval = max(1, frame_count // num_frames)\n",
    "    \n",
    "    for i in range(num_frames):\n",
    "        cap.set(cv2.CAP_PROP_POS_FRAMES, i * interval)\n",
    "        ret, frame = cap.read()\n",
    "        if ret:\n",
    "            frame = cv2.resize(frame, (IMG_SIZE, IMG_SIZE))\n",
    "            frame = cv2.cvtColor(frame, cv2.COLOR_BGR2RGB)\n",
    "            frames.append(frame)\n",
    "    \n",
    "    cap.release()\n",
    "    \n",
    "    if len(frames) != num_frames:\n",
    "        print(\"Error: Not enough frames extracted. Check video file.\")\n",
    "        return None\n",
    "    \n",
    "    frames = np.array(frames) / 255.0\n",
    "    return frames.reshape(num_frames, IMG_SIZE, IMG_SIZE, 3)"
   ]
  },
  {
   "cell_type": "code",
   "execution_count": null,
   "id": "1b7ac7c3-1109-4c24-be18-396bf14690ed",
   "metadata": {},
   "outputs": [],
   "source": []
  }
 ],
 "metadata": {
  "kernelspec": {
   "display_name": "Python 3.10.14 (tensorflow)",
   "language": "python",
   "name": "tensorflow"
  },
  "language_info": {
   "codemirror_mode": {
    "name": "ipython",
    "version": 3
   },
   "file_extension": ".py",
   "mimetype": "text/x-python",
   "name": "python",
   "nbconvert_exporter": "python",
   "pygments_lexer": "ipython3",
   "version": "3.10.13"
  }
 },
 "nbformat": 4,
 "nbformat_minor": 5
}
